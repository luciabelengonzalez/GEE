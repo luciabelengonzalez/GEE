{
 "cells": [
  {
   "cell_type": "markdown",
   "metadata": {},
   "source": [
    "# Get NDVI mean values from Sentinel-2 L2A for all features in a FeatureCollection given a period of time "
   ]
  },
  {
   "cell_type": "code",
   "execution_count": null,
   "metadata": {},
   "outputs": [],
   "source": [
    "from datetime import datetime\n",
    "from datetime import date\n",
    "import pandas as pd\n",
    "from matplotlib import pyplot as plt\n",
    "from matplotlib.ticker import NullFormatter\n",
    "from matplotlib.dates import MonthLocator, DateFormatter\n",
    "\n",
    "\n",
    "import ee\n",
    "ee.Initialize()"
   ]
  },
  {
   "cell_type": "code",
   "execution_count": null,
   "metadata": {},
   "outputs": [],
   "source": [
    "# Functions\n",
    "def ndvi (image):\n",
    "    image = image.clip(plots)\n",
    "    ndvi = image.normalizedDifference(['B8', 'B4'])\n",
    "    return ndvi\n",
    "\n",
    "def mean (image):\n",
    "    mean = image.reduceRegion(reducer = ee.Reducer.mean(), geometry = geometry)\n",
    "    return ee.Feature(None, {'mean': mean.get('nd'), 'plot':plot})"
   ]
  },
  {
   "cell_type": "code",
   "execution_count": null,
   "metadata": {
    "scrolled": true
   },
   "outputs": [],
   "source": [
    "# Parameters\n",
    "start = \"2019-10-01\" #sowing date\n",
    "end = \"2020-04-20\"   #harvest date\n",
    "plots = ee.Collection.loadTable(\"users/user123/file123\") #path to file, in this case, it is a shapefile with many geometries \n",
    "\n",
    "# Image collection with NDVI images (Sentinel-2 L2A) corresponding to all plots in the period of interest\n",
    "sentinel = ee.ImageCollection(\"COPERNICUS/S2_SR\")\\\n",
    "            .filterDate(start, end)\\\n",
    "            .filterBounds(plots)\\\n",
    "            .select(['B8', 'B4'])\\\n",
    "            .filterMetadata(\"CLOUDY_PIXEL_PERCENTAGE\", \"less_than\", 20)\\\n",
    "            .map(ndvi)\n",
    "\n",
    "# Number of images retrieved\n",
    "number_of_img = len(sentinel.getInfo()['features'])\n",
    "number_of_img\n"
   ]
  },
  {
   "cell_type": "code",
   "execution_count": null,
   "metadata": {},
   "outputs": [],
   "source": [
    "data = []\n",
    "\n",
    "for plot in plots.getInfo()['features']:\n",
    "    geometry = plot['geometry']\n",
    "    name = plot ['properties']['layer'] #the plot name is defined in a column called \"layer\"\n",
    "    images_reduced_to_mean_by_region = sentinel.filterBounds(geometry).map(mean)\n",
    "    for feature in images_reduced_to_mean_by_region.getInfo()['features']:\n",
    "        try:\n",
    "            data.append([name, feature['id'], feature['properties']['mean']])\n",
    "        except: \n",
    "            pass\n",
    "        \n",
    "            \n",
    "#number of features\n",
    "len (data)"
   ]
  },
  {
   "cell_type": "code",
   "execution_count": null,
   "metadata": {},
   "outputs": [],
   "source": [
    "# Prepare data to export as csv\n",
    "\n",
    "# Export raw data, a csv file with columns plot, date and NDVI\n",
    "data_ = pd.DataFrame(data)\n",
    "data_.columns = ['plot', 'date', 'NDVI']\n",
    "data_['date'] = data_['date'].str[0:4].str.cat(data_['date'].str[4:6], sep='-').str.cat(data_['date'].str[6:8], sep='-')\n",
    "data_.to_csv(f'raw_data_{datetime.now()}.csv')\n",
    "\n",
    "# Export data discarding dates with NDVI values less tan 0.1 and group by date in case there are more than one NDVI value that day due to 2 tiles contain the plot\n",
    "filter_data = data_.loc[lambda data_: data_['NDVI'] > 0.1, :] #discard images with NDVI values less than 0.1, assume the images are cloudy\n",
    "filter_data = filter_data.groupby(['plot', 'date']).mean()\n",
    "filter_data = filter_data.reset_index()\n",
    "filter_data.to_csv(f'filter_data_{datetime.now()}.csv')"
   ]
  },
  {
   "cell_type": "code",
   "execution_count": null,
   "metadata": {},
   "outputs": [],
   "source": []
  }
 ],
 "metadata": {
  "kernelspec": {
   "display_name": "Python 3",
   "language": "python",
   "name": "python3"
  },
  "language_info": {
   "codemirror_mode": {
    "name": "ipython",
    "version": 3
   },
   "file_extension": ".py",
   "mimetype": "text/x-python",
   "name": "python",
   "nbconvert_exporter": "python",
   "pygments_lexer": "ipython3",
   "version": "3.6.7"
  }
 },
 "nbformat": 4,
 "nbformat_minor": 4
}
